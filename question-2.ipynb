{
 "cells": [
  {
   "cell_type": "markdown",
   "id": "84a2cd00",
   "metadata": {},
   "source": [
    "importing data into tables and fuctions"
   ]
  },
  {
   "cell_type": "code",
   "execution_count": 1,
   "id": "04c4a4f4",
   "metadata": {},
   "outputs": [
    {
     "name": "stderr",
     "output_type": "stream",
     "text": [
      "                                                                                \r"
     ]
    }
   ],
   "source": [
    "sales_table=spark.read.parquet(\"./DatasetToCompleteTheSixSparkExercises/sales_parquet\")\n",
    "sellers_table=spark.read.parquet(\"./DatasetToCompleteTheSixSparkExercises/sellers_parquet\")\n",
    "products_table=spark.read.parquet(\"./DatasetToCompleteTheSixSparkExercises/products_parquet\")"
   ]
  },
  {
   "cell_type": "code",
   "execution_count": 2,
   "id": "89b176a8",
   "metadata": {},
   "outputs": [],
   "source": [
    "from pyspark.sql.functions import *"
   ]
  },
  {
   "cell_type": "markdown",
   "id": "6b6e44ef",
   "metadata": {},
   "source": [
    "for each seller, what is the average %contribution of an order to the sellers’ daily quota?"
   ]
  },
  {
   "cell_type": "code",
   "execution_count": 30,
   "id": "e907b06a",
   "metadata": {},
   "outputs": [],
   "source": [
    "percent_sale_table = sales_table.join(sellers_table, on = 'seller_id').select('seller_id','num_pieces_sold','daily_target',)"
   ]
  },
  {
   "cell_type": "code",
   "execution_count": 31,
   "id": "fd42dc4a",
   "metadata": {},
   "outputs": [],
   "source": [
    "percent_sale_table = percent_sale_table.withColumn('percent_daily_quota', (col('num_pieces_sold')/col('daily_target')))"
   ]
  },
  {
   "cell_type": "code",
   "execution_count": 32,
   "id": "95ed71ae",
   "metadata": {},
   "outputs": [
    {
     "name": "stderr",
     "output_type": "stream",
     "text": [
      "                                                                                \r"
     ]
    },
    {
     "name": "stdout",
     "output_type": "stream",
     "text": [
      "+---------+------------------------+\n",
      "|seller_id|avg(percent_daily_quota)|\n",
      "+---------+------------------------+\n",
      "|        7|    2.595228787788170...|\n",
      "|        3|     1.62888537056594E-4|\n",
      "|        8|    9.213030375408861E-5|\n",
      "|        0|    2.019885898946922...|\n",
      "|        5|    4.211073965904022E-5|\n",
      "|        6|    4.782147194369122E-5|\n",
      "|        9|    3.837913136180238E-5|\n",
      "|        1|    1.964233366461014...|\n",
      "|        4|    3.296428039825817E-5|\n",
      "|        2|    6.690408001060484E-5|\n",
      "+---------+------------------------+\n",
      "\n"
     ]
    }
   ],
   "source": [
    "percent_sale_table.groupBy(col('seller_id')).agg(avg(col('percent_daily_quota'))).show()"
   ]
  },
  {
   "cell_type": "code",
   "execution_count": null,
   "id": "e53ee1af",
   "metadata": {},
   "outputs": [],
   "source": []
  }
 ],
 "metadata": {
  "kernelspec": {
   "display_name": "Python 3 (ipykernel)",
   "language": "python",
   "name": "python3"
  },
  "language_info": {
   "codemirror_mode": {
    "name": "ipython",
    "version": 3
   },
   "file_extension": ".py",
   "mimetype": "text/x-python",
   "name": "python",
   "nbconvert_exporter": "python",
   "pygments_lexer": "ipython3",
   "version": "3.9.5"
  }
 },
 "nbformat": 4,
 "nbformat_minor": 5
}
