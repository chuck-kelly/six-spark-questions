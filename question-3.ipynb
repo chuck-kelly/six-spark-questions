{
 "cells": [
  {
   "cell_type": "markdown",
   "id": "38e66250",
   "metadata": {},
   "source": [
    "importing data into tables and fuctions"
   ]
  },
  {
   "cell_type": "code",
   "execution_count": 1,
   "id": "b64b1f8e",
   "metadata": {},
   "outputs": [
    {
     "name": "stderr",
     "output_type": "stream",
     "text": [
      "                                                                                \r"
     ]
    }
   ],
   "source": [
    "sales_table=spark.read.parquet(\"./DatasetToCompleteTheSixSparkExercises/sales_parquet\")\n",
    "sellers_table=spark.read.parquet(\"./DatasetToCompleteTheSixSparkExercises/sellers_parquet\")\n",
    "products_table=spark.read.parquet(\"./DatasetToCompleteTheSixSparkExercises/products_parquet\")"
   ]
  },
  {
   "cell_type": "code",
   "execution_count": 2,
   "id": "ef8ffde8",
   "metadata": {},
   "outputs": [],
   "source": [
    "from pyspark.sql.functions import *"
   ]
  },
  {
   "cell_type": "code",
   "execution_count": 3,
   "id": "1b2ef0e8",
   "metadata": {},
   "outputs": [],
   "source": [
    "from pyspark.sql import Row, Window"
   ]
  },
  {
   "cell_type": "markdown",
   "id": "c3d1e0b6",
   "metadata": {},
   "source": [
    "Who are the second most selling and the least sellingpersons (sellers) for each product?Who are those for product with `product_id = 0`"
   ]
  },
  {
   "cell_type": "code",
   "execution_count": null,
   "id": "7366d1b4",
   "metadata": {},
   "outputs": [],
   "source": []
  },
  {
   "cell_type": "code",
   "execution_count": 19,
   "id": "83370b8a",
   "metadata": {},
   "outputs": [],
   "source": [
    "sales_table = sales_table.groupBy(col('product_id'), col('seller_id')).agg(sum('num_pieces_sold').alias('num_piecs_sold'))"
   ]
  },
  {
   "cell_type": "code",
   "execution_count": 20,
   "id": "ba232cf1",
   "metadata": {},
   "outputs": [
    {
     "name": "stderr",
     "output_type": "stream",
     "text": [
      "[Stage 13:=====================================================>  (80 + 3) / 83]\r"
     ]
    },
    {
     "name": "stdout",
     "output_type": "stream",
     "text": [
      "+----------+---------+--------------+\n",
      "|product_id|seller_id|num_piecs_sold|\n",
      "+----------+---------+--------------+\n",
      "|  46681458|        9|          33.0|\n",
      "|  16712495|        9|           9.0|\n",
      "|  51262311|        5|          57.0|\n",
      "|   8370729|        6|          11.0|\n",
      "|  64958710|        5|          93.0|\n",
      "|  20420388|        2|          69.0|\n",
      "|   4584308|        4|          37.0|\n",
      "|  26549820|        1|          43.0|\n",
      "|  42582331|        6|          29.0|\n",
      "|  19978585|        9|          87.0|\n",
      "|  43979306|        7|          47.0|\n",
      "|  54457557|        1|          33.0|\n",
      "|  43280168|        9|          16.0|\n",
      "|  42366428|        1|          83.0|\n",
      "|  49010528|        3|          80.0|\n",
      "|  59282395|        5|          55.0|\n",
      "|  17829901|        3|         100.0|\n",
      "|  71883207|        7|          67.0|\n",
      "|  54378916|        3|          96.0|\n",
      "|  14638090|        4|          86.0|\n",
      "+----------+---------+--------------+\n",
      "only showing top 20 rows\n",
      "\n"
     ]
    },
    {
     "name": "stderr",
     "output_type": "stream",
     "text": [
      "\r",
      "[Stage 13:=======================================================>(82 + 1) / 83]\r",
      "\r",
      "                                                                                \r"
     ]
    }
   ],
   "source": [
    "sales_table.show()"
   ]
  },
  {
   "cell_type": "code",
   "execution_count": 22,
   "id": "cfe8764d",
   "metadata": {},
   "outputs": [],
   "source": [
    "window_desc = Window.partitionBy(col('product_id')).orderBy(col('num_piecs_sold').desc())"
   ]
  },
  {
   "cell_type": "code",
   "execution_count": 23,
   "id": "438be364",
   "metadata": {},
   "outputs": [
    {
     "ename": "AttributeError",
     "evalue": "'WindowSpec' object has no attribute 'show'",
     "output_type": "error",
     "traceback": [
      "\u001b[0;31m---------------------------------------------------------------------------\u001b[0m",
      "\u001b[0;31mAttributeError\u001b[0m                            Traceback (most recent call last)",
      "\u001b[0;32m/var/folders/q4/t7100wbs1z91n0xw7n1xyynm0000gp/T/ipykernel_16191/2788178210.py\u001b[0m in \u001b[0;36m<module>\u001b[0;34m\u001b[0m\n\u001b[0;32m----> 1\u001b[0;31m \u001b[0mwindow_desc\u001b[0m\u001b[0;34m.\u001b[0m\u001b[0mshow\u001b[0m\u001b[0;34m(\u001b[0m\u001b[0;34m)\u001b[0m\u001b[0;34m\u001b[0m\u001b[0;34m\u001b[0m\u001b[0m\n\u001b[0m",
      "\u001b[0;31mAttributeError\u001b[0m: 'WindowSpec' object has no attribute 'show'"
     ]
    }
   ],
   "source": [
    "window_desc.show()"
   ]
  },
  {
   "cell_type": "code",
   "execution_count": 6,
   "id": "2edbabdc",
   "metadata": {},
   "outputs": [],
   "source": [
    "window_asc = Window.partitionBy(col('product_id')).orderBy(col('num_piecs_sold').asc())"
   ]
  },
  {
   "cell_type": "code",
   "execution_count": 7,
   "id": "9a39cef8",
   "metadata": {},
   "outputs": [],
   "source": [
    "sales_table = sales_table.withColumn(\"rank_asc\", dense_rank().over(window_asc)). \\\n",
    "    withColumn(\"rank_desc\", dense_rank().over(window_desc))"
   ]
  },
  {
   "cell_type": "code",
   "execution_count": 13,
   "id": "daf4b60f",
   "metadata": {},
   "outputs": [],
   "source": [
    "sales_table = sales_table.withColumn('rank_asc', dense_rank().over(window_asc))"
   ]
  },
  {
   "cell_type": "code",
   "execution_count": 14,
   "id": "1dac45e4",
   "metadata": {},
   "outputs": [],
   "source": [
    "sales_table = sales_table.withColumn('rank_desc', dense_rank().over(window_desc))"
   ]
  },
  {
   "cell_type": "code",
   "execution_count": 8,
   "id": "8da3869a",
   "metadata": {},
   "outputs": [
    {
     "name": "stderr",
     "output_type": "stream",
     "text": [
      "[Stage 5:>                                                          (0 + 1) / 1]\r"
     ]
    },
    {
     "name": "stdout",
     "output_type": "stream",
     "text": [
      "+----------+---------+--------------+--------+---------+\n",
      "|product_id|seller_id|num_piecs_sold|rank_asc|rank_desc|\n",
      "+----------+---------+--------------+--------+---------+\n",
      "|  10005243|        6|          98.0|       1|        1|\n",
      "|  10023464|        9|          59.0|       1|        1|\n",
      "|  10050363|        6|          18.0|       1|        1|\n",
      "|  10089524|        2|          53.0|       1|        1|\n",
      "|  10122266|        2|          25.0|       1|        1|\n",
      "|  10134574|        3|          28.0|       1|        1|\n",
      "|  10150439|        4|          72.0|       1|        1|\n",
      "|  10158822|        9|          86.0|       1|        1|\n",
      "|  10160884|        7|          89.0|       1|        1|\n",
      "|  10172594|        2|          60.0|       1|        1|\n",
      "|  10175294|        7|          29.0|       1|        1|\n",
      "|   1017716|        9|          82.0|       1|        1|\n",
      "|  10200802|        2|          42.0|       1|        1|\n",
      "|  10215353|        1|          22.0|       1|        1|\n",
      "|  10218345|        4|          98.0|       1|        1|\n",
      "|  10220977|        5|          76.0|       1|        1|\n",
      "|  10255853|        7|          26.0|       1|        1|\n",
      "|  10288525|        6|          63.0|       1|        1|\n",
      "|  10304712|        9|          48.0|       1|        1|\n",
      "|  10324080|        6|           5.0|       1|        1|\n",
      "+----------+---------+--------------+--------+---------+\n",
      "only showing top 20 rows\n",
      "\n"
     ]
    },
    {
     "name": "stderr",
     "output_type": "stream",
     "text": [
      "\r",
      "                                                                                \r"
     ]
    }
   ],
   "source": [
    "sales_table.show()"
   ]
  },
  {
   "cell_type": "code",
   "execution_count": 9,
   "id": "c9b04b8c",
   "metadata": {},
   "outputs": [],
   "source": [
    "sales_table.createOrReplaceTempView('sales_table_temp')"
   ]
  },
  {
   "cell_type": "code",
   "execution_count": 12,
   "id": "54ea35c7",
   "metadata": {},
   "outputs": [
    {
     "name": "stderr",
     "output_type": "stream",
     "text": [
      "[Stage 7:=====================================================> (195 + 4) / 200]\r"
     ]
    },
    {
     "name": "stdout",
     "output_type": "stream",
     "text": [
      "+----------+---------+--------------+--------+---------+\n",
      "|product_id|seller_id|num_piecs_sold|rank_asc|rank_desc|\n",
      "+----------+---------+--------------+--------+---------+\n",
      "|  10005243|        6|          98.0|       1|        1|\n",
      "|  10023464|        9|          59.0|       1|        1|\n",
      "|  10050363|        6|          18.0|       1|        1|\n",
      "|  10089524|        2|          53.0|       1|        1|\n",
      "|  10122266|        2|          25.0|       1|        1|\n",
      "|  10134574|        3|          28.0|       1|        1|\n",
      "|  10150439|        4|          72.0|       1|        1|\n",
      "|  10158822|        9|          86.0|       1|        1|\n",
      "|  10160884|        7|          89.0|       1|        1|\n",
      "|  10172594|        2|          60.0|       1|        1|\n",
      "|  10175294|        7|          29.0|       1|        1|\n",
      "|   1017716|        9|          82.0|       1|        1|\n",
      "|  10200802|        2|          42.0|       1|        1|\n",
      "|  10215353|        1|          22.0|       1|        1|\n",
      "|  10218345|        4|          98.0|       1|        1|\n",
      "|  10220977|        5|          76.0|       1|        1|\n",
      "|  10255853|        7|          26.0|       1|        1|\n",
      "|  10288525|        6|          63.0|       1|        1|\n",
      "|  10304712|        9|          48.0|       1|        1|\n",
      "|  10324080|        6|           5.0|       1|        1|\n",
      "+----------+---------+--------------+--------+---------+\n",
      "only showing top 20 rows\n",
      "\n"
     ]
    },
    {
     "name": "stderr",
     "output_type": "stream",
     "text": [
      "\r",
      "                                                                                \r"
     ]
    }
   ],
   "source": [
    "spark.sql(\"SELECT * FROM sales_table_temp\").show()"
   ]
  },
  {
   "cell_type": "code",
   "execution_count": 14,
   "id": "716335eb",
   "metadata": {},
   "outputs": [],
   "source": [
    "sales_table_2=spark.read.parquet(\"./DatasetToCompleteTheSixSparkExercises/sales_parquet\")"
   ]
  },
  {
   "cell_type": "code",
   "execution_count": 16,
   "id": "6174d112",
   "metadata": {},
   "outputs": [],
   "source": [
    "sales_table_2.createOrReplaceTempView('sales_table_temp_2')"
   ]
  },
  {
   "cell_type": "code",
   "execution_count": 17,
   "id": "f96ec3fc",
   "metadata": {},
   "outputs": [
    {
     "name": "stdout",
     "output_type": "stream",
     "text": [
      "+--------+----------+---------+----------+---------------+--------------------+\n",
      "|order_id|product_id|seller_id|      date|num_pieces_sold|       bill_raw_text|\n",
      "+--------+----------+---------+----------+---------------+--------------------+\n",
      "|       1|         0|        0|2020-07-10|             26|kyeibuumwlyhuwksx...|\n",
      "|       2|         0|        0|2020-07-08|             13|jfyuoyfkeyqkckwbu...|\n",
      "|       3|         0|        0|2020-07-05|             38|uyjihlzhzcswxcccx...|\n",
      "|       4|         0|        0|2020-07-05|             56|umnxvoqbdzpbwjqmz...|\n",
      "|       5|         0|        0|2020-07-05|             11|zmqexmaawmvdpqhih...|\n",
      "|       6|         0|        0|2020-07-01|             82|lmuhhkpyuoyslwmvX...|\n",
      "|       7|         0|        0|2020-07-04|             15|zoqweontumefxbgvu...|\n",
      "|       8|         0|        0|2020-07-08|             79|sgldfgtcxufasnvsc...|\n",
      "|       9|         0|        0|2020-07-10|             25|jnykelwjjebgkwgmu...|\n",
      "|      10|         0|        0|2020-07-08|              8|yywjfihneygcvfnyl...|\n",
      "|      11|         0|        0|2020-07-01|             10|nxwejyoeznltdhcam...|\n",
      "|      12|         0|        0|2020-07-06|             45|efmymeftivwsfljzt...|\n",
      "|      13|         0|        0|2020-07-10|             63|nxhvtospPhfnkavdy...|\n",
      "|      14|         0|        0|2020-07-03|             22|ypyusdsjzfpfbucnn...|\n",
      "|      15|         0|        0|2020-07-09|             75|ymjvbhaxffyjcwzyn...|\n",
      "|      16|         0|        0|2020-07-10|             83|phbcykkhvqsbkipwa...|\n",
      "|      17|         0|        0|2020-07-04|             54|qgnGqqnjmbqZytoug...|\n",
      "|      18|         0|        0|2020-07-04|             58|ozmllbabrnhebWcex...|\n",
      "|      19|         0|        0|2020-07-07|             33|kbrvXuzgiuinodtkg...|\n",
      "|      20|         0|        0|2020-07-09|             73|jnqjzaigjtqlfwpug...|\n",
      "+--------+----------+---------+----------+---------------+--------------------+\n",
      "only showing top 20 rows\n",
      "\n"
     ]
    }
   ],
   "source": [
    "spark.sql(\"SELECT * FROM sales_table_temp_2\").show()"
   ]
  },
  {
   "cell_type": "code",
   "execution_count": null,
   "id": "da8649e5",
   "metadata": {},
   "outputs": [],
   "source": []
  }
 ],
 "metadata": {
  "kernelspec": {
   "display_name": "Python 3 (ipykernel)",
   "language": "python",
   "name": "python3"
  },
  "language_info": {
   "codemirror_mode": {
    "name": "ipython",
    "version": 3
   },
   "file_extension": ".py",
   "mimetype": "text/x-python",
   "name": "python",
   "nbconvert_exporter": "python",
   "pygments_lexer": "ipython3",
   "version": "3.9.5"
  }
 },
 "nbformat": 4,
 "nbformat_minor": 5
}
