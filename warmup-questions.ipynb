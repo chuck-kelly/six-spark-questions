{
 "cells": [
  {
   "cell_type": "code",
   "execution_count": 1,
   "id": "d73b3fa6",
   "metadata": {},
   "outputs": [
    {
     "data": {
      "text/html": [
       "\n",
       "        <div>\n",
       "            <p><b>SparkContext</b></p>\n",
       "\n",
       "            <p><a href=\"http://10.0.0.130:4040\">Spark UI</a></p>\n",
       "\n",
       "            <dl>\n",
       "              <dt>Version</dt>\n",
       "                <dd><code>v3.1.2</code></dd>\n",
       "              <dt>Master</dt>\n",
       "                <dd><code>local[*]</code></dd>\n",
       "              <dt>AppName</dt>\n",
       "                <dd><code>PySparkShell</code></dd>\n",
       "            </dl>\n",
       "        </div>\n",
       "        "
      ],
      "text/plain": [
       "<SparkContext master=local[*] appName=PySparkShell>"
      ]
     },
     "execution_count": 1,
     "metadata": {},
     "output_type": "execute_result"
    }
   ],
   "source": [
    "sc"
   ]
  },
  {
   "cell_type": "code",
   "execution_count": 12,
   "id": "87249b09",
   "metadata": {},
   "outputs": [],
   "source": [
    "from pyspark.sql.functions import *"
   ]
  },
  {
   "cell_type": "markdown",
   "id": "cd575027",
   "metadata": {},
   "source": [
    "make tables and find size"
   ]
  },
  {
   "cell_type": "code",
   "execution_count": 3,
   "id": "e2219e09",
   "metadata": {},
   "outputs": [
    {
     "name": "stderr",
     "output_type": "stream",
     "text": [
      "                                                                                \r"
     ]
    }
   ],
   "source": [
    "sales_table=spark.read.parquet(\"./DatasetToCompleteTheSixSparkExercises/sales_parquet\")"
   ]
  },
  {
   "cell_type": "code",
   "execution_count": 4,
   "id": "68d9f4bc",
   "metadata": {},
   "outputs": [
    {
     "name": "stderr",
     "output_type": "stream",
     "text": [
      "[Stage 1:====================================================>    (76 + 4) / 83]\r"
     ]
    },
    {
     "name": "stdout",
     "output_type": "stream",
     "text": [
      "Number of Orders: 20000040\n"
     ]
    },
    {
     "name": "stderr",
     "output_type": "stream",
     "text": [
      "\r",
      "[Stage 1:=======================================================> (81 + 2) / 83]\r",
      "\r",
      "                                                                                \r"
     ]
    }
   ],
   "source": [
    "print(\"Number of Orders: {}\".format(sales_table.count()))"
   ]
  },
  {
   "cell_type": "code",
   "execution_count": 5,
   "id": "7f7923a3",
   "metadata": {},
   "outputs": [],
   "source": [
    "sellers_table=spark.read.parquet(\"./DatasetToCompleteTheSixSparkExercises/sellers_parquet\")"
   ]
  },
  {
   "cell_type": "code",
   "execution_count": 6,
   "id": "d8c73a52",
   "metadata": {},
   "outputs": [
    {
     "name": "stdout",
     "output_type": "stream",
     "text": [
      "Number of Sellers: 10\n"
     ]
    }
   ],
   "source": [
    "print(\"Number of Sellers: {}\".format(sellers_table.count()))"
   ]
  },
  {
   "cell_type": "code",
   "execution_count": 7,
   "id": "7ad85f40",
   "metadata": {},
   "outputs": [],
   "source": [
    "products_table=spark.read.parquet(\"./DatasetToCompleteTheSixSparkExercises/products_parquet\")"
   ]
  },
  {
   "cell_type": "code",
   "execution_count": 8,
   "id": "03da7e4e",
   "metadata": {},
   "outputs": [
    {
     "name": "stdout",
     "output_type": "stream",
     "text": [
      "Number of Products: 75000000\n"
     ]
    }
   ],
   "source": [
    "print(\"Number of Products: {}\".format(products_table.count()))"
   ]
  },
  {
   "cell_type": "markdown",
   "id": "3712445f",
   "metadata": {},
   "source": [
    "how many unique products were sold"
   ]
  },
  {
   "cell_type": "code",
   "execution_count": 14,
   "id": "25a17b47",
   "metadata": {},
   "outputs": [
    {
     "name": "stderr",
     "output_type": "stream",
     "text": [
      "[Stage 10:==============================================>       (171 + 4) / 200]\r"
     ]
    },
    {
     "name": "stdout",
     "output_type": "stream",
     "text": [
      "+-----------------+\n",
      "|count(product_id)|\n",
      "+-----------------+\n",
      "|           993429|\n",
      "+-----------------+\n",
      "\n"
     ]
    },
    {
     "name": "stderr",
     "output_type": "stream",
     "text": [
      "\r",
      "                                                                                \r"
     ]
    }
   ],
   "source": [
    "sales_table.agg(countDistinct(col(\"product_id\"))).show()"
   ]
  },
  {
   "cell_type": "markdown",
   "id": "6c978edd",
   "metadata": {},
   "source": [
    "what producd was sold the most?"
   ]
  },
  {
   "cell_type": "code",
   "execution_count": 21,
   "id": "2ed509a1",
   "metadata": {},
   "outputs": [
    {
     "name": "stderr",
     "output_type": "stream",
     "text": [
      "[Stage 19:=========================================>            (154 + 4) / 200]\r"
     ]
    },
    {
     "name": "stdout",
     "output_type": "stream",
     "text": [
      "+----------+--------+\n",
      "|product_id|count(1)|\n",
      "+----------+--------+\n",
      "|         0|19000000|\n",
      "+----------+--------+\n",
      "\n"
     ]
    },
    {
     "name": "stderr",
     "output_type": "stream",
     "text": [
      "\r",
      "[Stage 19:====================================================> (195 + 4) / 200]\r",
      "\r",
      "                                                                                \r"
     ]
    }
   ],
   "source": [
    "sales_table.groupBy(col(\"product_id\")).agg(count(\"*\")).orderBy(col(\"count(1)\").desc()).limit(1).show()"
   ]
  },
  {
   "cell_type": "markdown",
   "id": "85bed674",
   "metadata": {},
   "source": [
    "how many differnt products were sold every day"
   ]
  },
  {
   "cell_type": "code",
   "execution_count": 29,
   "id": "ecc7444b",
   "metadata": {},
   "outputs": [
    {
     "name": "stderr",
     "output_type": "stream",
     "text": [
      "[Stage 67:=====================================================>(199 + 1) / 200]\r"
     ]
    },
    {
     "name": "stdout",
     "output_type": "stream",
     "text": [
      "+----------+-----------------+\n",
      "|      date|count(product_id)|\n",
      "+----------+-----------------+\n",
      "|2020-07-06|           100765|\n",
      "|2020-07-09|           100501|\n",
      "|2020-07-01|           100337|\n",
      "|2020-07-03|           100017|\n",
      "|2020-07-02|            99807|\n",
      "|2020-07-05|            99796|\n",
      "|2020-07-04|            99791|\n",
      "|2020-07-07|            99756|\n",
      "|2020-07-08|            99662|\n",
      "|2020-07-10|            98973|\n",
      "+----------+-----------------+\n",
      "\n"
     ]
    },
    {
     "name": "stderr",
     "output_type": "stream",
     "text": [
      "\r",
      "                                                                                \r"
     ]
    }
   ],
   "source": [
    "sales_table.groupBy(col(\"date\")).agg(countDistinct(col(\"product_id\"))).orderBy(col(\"count(product_id)\").desc()).show()"
   ]
  },
  {
   "cell_type": "code",
   "execution_count": null,
   "id": "593be008",
   "metadata": {},
   "outputs": [],
   "source": []
  }
 ],
 "metadata": {
  "kernelspec": {
   "display_name": "Python 3 (ipykernel)",
   "language": "python",
   "name": "python3"
  },
  "language_info": {
   "codemirror_mode": {
    "name": "ipython",
    "version": 3
   },
   "file_extension": ".py",
   "mimetype": "text/x-python",
   "name": "python",
   "nbconvert_exporter": "python",
   "pygments_lexer": "ipython3",
   "version": "3.9.5"
  }
 },
 "nbformat": 4,
 "nbformat_minor": 5
}
