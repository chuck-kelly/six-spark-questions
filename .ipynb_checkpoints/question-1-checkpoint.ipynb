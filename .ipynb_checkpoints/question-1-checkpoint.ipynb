{
 "cells": [
  {
   "cell_type": "markdown",
   "id": "5210cb5f",
   "metadata": {},
   "source": [
    "importing data into tables and fuctions"
   ]
  },
  {
   "cell_type": "code",
   "execution_count": 1,
   "id": "fa4108d1",
   "metadata": {},
   "outputs": [
    {
     "name": "stderr",
     "output_type": "stream",
     "text": [
      "                                                                                \r"
     ]
    }
   ],
   "source": [
    "sales_table=spark.read.parquet(\"./DatasetToCompleteTheSixSparkExercises/sales_parquet\")\n",
    "sellers_table=spark.read.parquet(\"./DatasetToCompleteTheSixSparkExercises/sellers_parquet\")\n",
    "products_table=spark.read.parquet(\"./DatasetToCompleteTheSixSparkExercises/products_parquet\")"
   ]
  },
  {
   "cell_type": "code",
   "execution_count": 12,
   "id": "b8cb218c",
   "metadata": {},
   "outputs": [],
   "source": [
    "from pyspark.sql.functions import *"
   ]
  },
  {
   "cell_type": "markdown",
   "id": "5ee46cf0",
   "metadata": {},
   "source": [
    "#1 what is the average revenue of the orders?\n"
   ]
  },
  {
   "cell_type": "code",
   "execution_count": 15,
   "id": "a4171355",
   "metadata": {},
   "outputs": [],
   "source": [
    "rev_table = sales_table.join(\n",
    "    products_table,\n",
    "    products_table.product_id == sales_table.product_id\n",
    "    ).select(\"price\", \"num_pieces_sold\")"
   ]
  },
  {
   "cell_type": "code",
   "execution_count": 20,
   "id": "b171b10a",
   "metadata": {},
   "outputs": [],
   "source": [
    "rev_table = rev_table.withColumn('revenue', (col('price') * col('num_pieces_sold')))"
   ]
  },
  {
   "cell_type": "code",
   "execution_count": 21,
   "id": "2ee666d8",
   "metadata": {},
   "outputs": [
    {
     "name": "stderr",
     "output_type": "stream",
     "text": [
      "[Stage 17:=======================================================>(82 + 1) / 83]\r"
     ]
    },
    {
     "name": "stdout",
     "output_type": "stream",
     "text": [
      "+-----+---------------+-------+\n",
      "|price|num_pieces_sold|revenue|\n",
      "+-----+---------------+-------+\n",
      "|   44|             98| 4312.0|\n",
      "|   19|             59| 1121.0|\n",
      "|   98|             18| 1764.0|\n",
      "|  100|             53| 5300.0|\n",
      "|   89|             25| 2225.0|\n",
      "|  138|             28| 3864.0|\n",
      "|   71|             72| 5112.0|\n",
      "|   35|             86| 3010.0|\n",
      "|   52|             89| 4628.0|\n",
      "|   81|             60| 4860.0|\n",
      "|  112|             29| 3248.0|\n",
      "|   66|             82| 5412.0|\n",
      "|   41|             42| 1722.0|\n",
      "|   56|             22| 1232.0|\n",
      "|  141|             98|13818.0|\n",
      "|  132|             76|10032.0|\n",
      "|  120|             26| 3120.0|\n",
      "|  132|             63| 8316.0|\n",
      "|   24|             48| 1152.0|\n",
      "|  130|              5|  650.0|\n",
      "+-----+---------------+-------+\n",
      "only showing top 20 rows\n",
      "\n"
     ]
    },
    {
     "name": "stderr",
     "output_type": "stream",
     "text": [
      "\r",
      "                                                                                \r"
     ]
    }
   ],
   "source": [
    "rev_table.show()"
   ]
  },
  {
   "cell_type": "code",
   "execution_count": 27,
   "id": "682226c2",
   "metadata": {},
   "outputs": [
    {
     "name": "stderr",
     "output_type": "stream",
     "text": [
      "[Stage 21:=====================================================>(199 + 1) / 200]\r"
     ]
    },
    {
     "name": "stdout",
     "output_type": "stream",
     "text": [
      "+------------------+\n",
      "|      avg(revenue)|\n",
      "+------------------+\n",
      "|1246.1338560822878|\n",
      "+------------------+\n",
      "\n"
     ]
    },
    {
     "name": "stderr",
     "output_type": "stream",
     "text": [
      "\r",
      "                                                                                \r"
     ]
    }
   ],
   "source": [
    "rev_table.select(avg('revenue')).show()"
   ]
  },
  {
   "cell_type": "code",
   "execution_count": null,
   "id": "2a724285",
   "metadata": {},
   "outputs": [],
   "source": []
  }
 ],
 "metadata": {
  "kernelspec": {
   "display_name": "Python 3 (ipykernel)",
   "language": "python",
   "name": "python3"
  },
  "language_info": {
   "codemirror_mode": {
    "name": "ipython",
    "version": 3
   },
   "file_extension": ".py",
   "mimetype": "text/x-python",
   "name": "python",
   "nbconvert_exporter": "python",
   "pygments_lexer": "ipython3",
   "version": "3.9.5"
  }
 },
 "nbformat": 4,
 "nbformat_minor": 5
}
