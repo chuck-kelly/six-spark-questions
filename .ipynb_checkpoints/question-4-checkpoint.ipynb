{
 "cells": [
  {
   "cell_type": "markdown",
   "id": "c58651d9",
   "metadata": {},
   "source": [
    "Create a new column called \"hashed_bill\" defined asfollows:\n",
    "\n",
    "- if the order_id is even: apply MD5 hashing iteratively tothe bill_raw_text field, once for each 'A' (capital 'A')present in the text. E.g. if the bill text is 'nbAAnllA',you would apply hashing three times iteratively (only ifthe order number is even)\n",
    "\n",
    "- if the order_id is odd: apply SHA256 hashing to the billtext\n",
    "\n",
    "Finally, check if there are any duplicate on the new column"
   ]
  },
  {
   "cell_type": "code",
   "execution_count": 13,
   "id": "e1b9b5b2",
   "metadata": {},
   "outputs": [],
   "source": [
    "from pyspark.sql.functions import *"
   ]
  },
  {
   "cell_type": "code",
   "execution_count": 14,
   "id": "a1308705",
   "metadata": {},
   "outputs": [],
   "source": [
    "import hashlib"
   ]
  },
  {
   "cell_type": "code",
   "execution_count": 15,
   "id": "bb51755c",
   "metadata": {},
   "outputs": [
    {
     "name": "stderr",
     "output_type": "stream",
     "text": [
      "\r",
      "                                                                                \r"
     ]
    }
   ],
   "source": [
    "sales_table=spark.read.parquet(\"./DatasetToCompleteTheSixSparkExercises/sales_parquet\")\n",
    "sellers_table=spark.read.parquet(\"./DatasetToCompleteTheSixSparkExercises/sellers_parquet\")\n",
    "products_table=spark.read.parquet(\"./DatasetToCompleteTheSixSparkExercises/products_parquet\")"
   ]
  },
  {
   "cell_type": "code",
   "execution_count": 16,
   "id": "a8694613",
   "metadata": {},
   "outputs": [],
   "source": [
    "def algo(order_id, bill_text):\n",
    "    ret = bill_text.encode('utf-8')\n",
    "    if int(order_id) % 2 == 0:\n",
    "        count_a = bill_text.count('A')\n",
    "        for _c in range(0, count_a):\n",
    "            ret = hashlib.md5(ret).hexdigest().encode('utf-8')\n",
    "        ret.decode('utf-8')\n",
    "    else:\n",
    "        ret = hashlib.sha256(ret).hexdigest()\n",
    "    return ret"
   ]
  },
  {
   "cell_type": "code",
   "execution_count": 18,
   "id": "7711727c",
   "metadata": {},
   "outputs": [
    {
     "name": "stderr",
     "output_type": "stream",
     "text": [
      "21/08/08 17:55:04 WARN SimpleFunctionRegistry: The function algo replaced a previously registered function.\n"
     ]
    }
   ],
   "source": [
    "new_algo_udf = spark.udf.register('algo',algo)"
   ]
  },
  {
   "cell_type": "code",
   "execution_count": 19,
   "id": "edb79e66",
   "metadata": {},
   "outputs": [
    {
     "name": "stdout",
     "output_type": "stream",
     "text": [
      "+--------+----------+---------+----------+---------------+--------------------+--------------------+\n",
      "|order_id|product_id|seller_id|      date|num_pieces_sold|       bill_raw_text|         hashed_bill|\n",
      "+--------+----------+---------+----------+---------------+--------------------+--------------------+\n",
      "|       1|         0|        0|2020-07-10|             26|kyeibuumwlyhuwksx...|f6fa2a8be04a4ead6...|\n",
      "|       2|         0|        0|2020-07-08|             13|jfyuoyfkeyqkckwbu...|         [B@347591b6|\n",
      "|       3|         0|        0|2020-07-05|             38|uyjihlzhzcswxcccx...|416376a64cd652e7b...|\n",
      "|       4|         0|        0|2020-07-05|             56|umnxvoqbdzpbwjqmz...|         [B@6541fea5|\n",
      "|       5|         0|        0|2020-07-05|             11|zmqexmaawmvdpqhih...|787d361b162a6aa1a...|\n",
      "|       6|         0|        0|2020-07-01|             82|lmuhhkpyuoyslwmvX...|         [B@57024400|\n",
      "|       7|         0|        0|2020-07-04|             15|zoqweontumefxbgvu...|4540f452a7c4d5049...|\n",
      "|       8|         0|        0|2020-07-08|             79|sgldfgtcxufasnvsc...|         [B@73b93b9f|\n",
      "|       9|         0|        0|2020-07-10|             25|jnykelwjjebgkwgmu...|28b93c1c62caa2b97...|\n",
      "|      10|         0|        0|2020-07-08|              8|yywjfihneygcvfnyl...|         [B@6bd9ec7f|\n",
      "|      11|         0|        0|2020-07-01|             10|nxwejyoeznltdhcam...|000cbc89a752db6c4...|\n",
      "|      12|         0|        0|2020-07-06|             45|efmymeftivwsfljzt...|          [B@1079377|\n",
      "|      13|         0|        0|2020-07-10|             63|nxhvtospPhfnkavdy...|dd67ab7d952be16fa...|\n",
      "|      14|         0|        0|2020-07-03|             22|ypyusdsjzfpfbucnn...|         [B@4460e513|\n",
      "|      15|         0|        0|2020-07-09|             75|ymjvbhaxffyjcwzyn...|1ffcc4531e752f9a1...|\n",
      "|      16|         0|        0|2020-07-10|             83|phbcykkhvqsbkipwa...|         [B@7ebf5bc3|\n",
      "|      17|         0|        0|2020-07-04|             54|qgnGqqnjmbqZytoug...|2e93d3b4789a5fb76...|\n",
      "|      18|         0|        0|2020-07-04|             58|ozmllbabrnhebWcex...|         [B@5a21fa7f|\n",
      "|      19|         0|        0|2020-07-07|             33|kbrvXuzgiuinodtkg...|985ddbfaac225a8c2...|\n",
      "|      20|         0|        0|2020-07-09|             73|jnqjzaigjtqlfwpug...|         [B@67004667|\n",
      "+--------+----------+---------+----------+---------------+--------------------+--------------------+\n",
      "only showing top 20 rows\n",
      "\n"
     ]
    }
   ],
   "source": [
    "sales_table.withColumn('hashed_bill',algo_udf(col('order_id'), col('bill_raw_text'))).show()"
   ]
  },
  {
   "cell_type": "code",
   "execution_count": null,
   "id": "01ea7a01",
   "metadata": {},
   "outputs": [],
   "source": []
  },
  {
   "cell_type": "code",
   "execution_count": null,
   "id": "81de1790",
   "metadata": {},
   "outputs": [],
   "source": []
  }
 ],
 "metadata": {
  "kernelspec": {
   "display_name": "Python 3 (ipykernel)",
   "language": "python",
   "name": "python3"
  },
  "language_info": {
   "codemirror_mode": {
    "name": "ipython",
    "version": 3
   },
   "file_extension": ".py",
   "mimetype": "text/x-python",
   "name": "python",
   "nbconvert_exporter": "python",
   "pygments_lexer": "ipython3",
   "version": "3.9.5"
  }
 },
 "nbformat": 4,
 "nbformat_minor": 5
}
